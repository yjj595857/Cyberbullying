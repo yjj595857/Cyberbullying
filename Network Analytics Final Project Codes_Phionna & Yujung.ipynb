{
  "nbformat": 4,
  "nbformat_minor": 0,
  "metadata": {
    "colab": {
      "name": "Network Analytics Final Project_Phionna & Yujung.ipynb",
      "provenance": []
    },
    "kernelspec": {
      "name": "python3",
      "display_name": "Python 3"
    }
  },
  "cells": [
    {
      "cell_type": "markdown",
      "metadata": {
        "id": "EPFg4klQAk1U",
        "colab_type": "text"
      },
      "source": [
        "Mounting Notebook onto Google Drive"
      ]
    },
    {
      "cell_type": "code",
      "metadata": {
        "id": "O8gp-PZHAZvt",
        "colab_type": "code",
        "colab": {
          "base_uri": "https://localhost:8080/",
          "height": 122
        },
        "outputId": "b0991b7d-9690-4805-a7f5-d89598888443"
      },
      "source": [
        "from google.colab import drive\n",
        "drive.mount('/content/drive')"
      ],
      "execution_count": 1,
      "outputs": [
        {
          "output_type": "stream",
          "text": [
            "Go to this URL in a browser: https://accounts.google.com/o/oauth2/auth?client_id=947318989803-6bn6qk8qdgf4n4g3pfee6491hc0brc4i.apps.googleusercontent.com&redirect_uri=urn%3aietf%3awg%3aoauth%3a2.0%3aoob&response_type=code&scope=email%20https%3a%2f%2fwww.googleapis.com%2fauth%2fdocs.test%20https%3a%2f%2fwww.googleapis.com%2fauth%2fdrive%20https%3a%2f%2fwww.googleapis.com%2fauth%2fdrive.photos.readonly%20https%3a%2f%2fwww.googleapis.com%2fauth%2fpeopleapi.readonly\n",
            "\n",
            "Enter your authorization code:\n",
            "··········\n",
            "Mounted at /content/drive\n"
          ],
          "name": "stdout"
        }
      ]
    },
    {
      "cell_type": "markdown",
      "metadata": {
        "id": "X-QQAz_RBBEx",
        "colab_type": "text"
      },
      "source": [
        "Bigram and Trigram Processing for Both Twitter and Wikipedia Data"
      ]
    },
    {
      "cell_type": "code",
      "metadata": {
        "id": "nfW133S-AsHx",
        "colab_type": "code",
        "colab": {}
      },
      "source": [
        "pip install gensim"
      ],
      "execution_count": 0,
      "outputs": []
    },
    {
      "cell_type": "code",
      "metadata": {
        "id": "hRgB357Mqhuc",
        "colab_type": "code",
        "colab": {}
      },
      "source": [
        "import spacy\n",
        "import pandas as pd\n",
        "import itertools as it\n",
        "import os\n",
        "import codecs\n",
        "import string\n",
        "import re\n",
        "import time"
      ],
      "execution_count": 0,
      "outputs": []
    },
    {
      "cell_type": "code",
      "metadata": {
        "id": "neVTp-dhsAFi",
        "colab_type": "code",
        "colab": {}
      },
      "source": [
        "nlp = spacy.load('en')"
      ],
      "execution_count": 0,
      "outputs": []
    },
    {
      "cell_type": "code",
      "metadata": {
        "id": "K-iu51hELNRN",
        "colab_type": "code",
        "colab": {}
      },
      "source": [
        "# Read data\n",
        "twitter_data = pd.read_csv('/content/drive/My Drive/data.csv', encoding = \"ISO-8859-1\")\n",
        "\n",
        "# Drop the unneeded columns\n",
        "twitter_data.drop(['Unnamed: 0','description','url','crawled_at','protected','listed_count','last_post_lat','last_post_lon','last_post_place_id'], axis=1,inplace=True)\n",
        "\n",
        "# Drop N/A values \n",
        "twitter_data.dropna(axis=0, subset= ['last_post_text'],inplace=True)\n",
        "\n",
        "# Create a dataframe that only contained \"directed\" relationships\n",
        "twitter_data['directed'] = twitter_data['last_post_text'].str.contains('@')\n",
        "twitter_data_directed = twitter_data[twitter_data['directed'] == True]\n",
        "\n",
        "# Clean the text\n",
        "\n",
        "def clean_words(string):\n",
        "  string = string.replace(\"\\n\",\" \")\n",
        "  string = re.sub(r'\\d+','',string)\n",
        "  string = string.strip()\n",
        "  return string \n",
        "\n",
        "twitter_data_directed['last_post_text'] = twitter_data_directed['last_post_text'].apply(clean_words)\n",
        "\n",
        "# Create a column that showed the accounts that are tagged in the text\n",
        "def get_users(comment):\n",
        "  id = ''\n",
        "  for token in comment.split():\n",
        "    if \"@\" in token:\n",
        "      id = id + (token.strip(\"@\")) + ' '\n",
        "  return id\n",
        "\n",
        "twitter_data_directed['directed_to_no_list'] = twitter_data_directed['last_post_text'].apply(get_users)\n",
        "\n",
        "\n",
        "# Store the dataframe in Google Drive\n",
        "from google.colab import files\n",
        "twitter_data_directed.to_csv('/content/drive/My Drive/twitter_data_directed.csv')\n",
        "files.download('twitter_data_directed.csv')"
      ],
      "execution_count": 0,
      "outputs": []
    },
    {
      "cell_type": "code",
      "metadata": {
        "id": "937UFx2vsFAu",
        "colab_type": "code",
        "colab": {}
      },
      "source": [
        "#Read in Data\n",
        "\n",
        "df = pd.read_csv('/content/drive/My Drive/train.csv')\n",
        "twitter = pd.read_csv('/content/drive/My Drive/twitter_data_directed.csv')\n",
        "\n",
        "#Clean Data & Preprocessing\n",
        "\n",
        "def clean_printable(string_2):\n",
        "  printable = set(string.printable)\n",
        "  returned = ''.join(filter(lambda x: x in printable, string_2))\n",
        "  return(returned)\n",
        "\n",
        "twitter['last_post_text'] = twitter.last_post_text.astype(str)\n",
        "twitter['last_post_text'] = twitter['last_post_text'].apply(clean_printable)\n",
        "twitter = twitter[twitter['language'] == 'en']\n",
        "twitter_text = twitter[['account_id','last_post_text']]\n",
        "#twitter_text.to_csv(\"/content/drive/My Drive/Twitter_en.csv\")\n",
        "\n",
        "def clean_words(string):\n",
        "  string = string.replace(\"\\n\",\" \")\n",
        "  string = string.replace(\"/n\",\" \")\n",
        "  string = string.replace(\"\\n\\n\",\" \")\n",
        "  string = string.replace(\"\\n\\n\\n\",\" \")\n",
        "  #string = string.replace(\"@\",\" \")\n",
        "  string = re.sub(r'\\d', '', string)\n",
        "\n",
        "  #this cleans out links\n",
        "  string = re.sub(r'''(?i)\\b((?:https?://|www\\d{0,3}[.]|[a-z0-9.\\-]+[.][a-z]{2,4}/)(?:[^\\s()<>]+|\\(([^\\s()<>]+|(\\([^\\s()<>]+\\)))*\\))+(?:\\(([^\\s()<>]+|(\\([^\\s()<>]+\\)))*\\)|[^\\s`!()\\[\\]{};:'\".,<>?«»“”‘’]))''', \" \", string)\n",
        "  string = string.strip()\n",
        "  return string \n",
        "\n",
        "twitter_text['last_post_text'] = twitter_text['last_post_text'].apply(clean_words)\n",
        "df['comment_text'] = df['comment_text'].apply(clean_words)"
      ],
      "execution_count": 0,
      "outputs": []
    },
    {
      "cell_type": "code",
      "metadata": {
        "id": "TXxPCHReBBRS",
        "colab_type": "code",
        "colab": {}
      },
      "source": [
        "#Write all the text into one file (Do this for Twitter Data too) The below code is credited to Prof Abrahao's Network Analytics Lecture\n",
        "\n",
        "bully = df[df['toxic'] == 1]['comment_text']\n",
        "no_bully = df[df['toxic'] == 0]['comment_text']\n",
        "\n",
        "comments_bully = open('/content/drive/My Drive/comments_bully.txt','w+')\n",
        "comments_no_bully = open('/content/drive/My Drive/comments_no_bully.txt','w+')\n",
        "\n",
        "\n",
        "for i in list(bully):\n",
        "  comments_bully.write(i)\n",
        "  comments_bully.write(\"\\n\")\n",
        "comments_bully.close()\n",
        "\n",
        "for i in list(no_bully):\n",
        "  comments_no_bully.write(i)\n",
        "  comments_no_bully.write(\"\\n\")\n",
        "comments_no_bully.close()"
      ],
      "execution_count": 0,
      "outputs": []
    },
    {
      "cell_type": "code",
      "metadata": {
        "id": "OsN4BtYbCcZN",
        "colab_type": "code",
        "colab": {}
      },
      "source": [
        "from gensim.models import Phrases\n",
        "from gensim.models.word2vec import LineSentence\n",
        "\n",
        "def punct_space(token):\n",
        "    \"\"\"\n",
        "    helper function to eliminate tokens\n",
        "    that are pure punctuation or whitespace\n",
        "    \"\"\"\n",
        "    \n",
        "    return token.is_punct or token.is_space\n",
        "\n",
        "def line_review(filename):\n",
        "    \"\"\"\n",
        "    generator function to read in reviews from the file\n",
        "    and un-escape the original line breaks in the text\n",
        "    \"\"\"\n",
        "    \n",
        "    with codecs.open(filename, encoding='utf_8') as f:\n",
        "        for review in f:\n",
        "            yield review.replace('\\\\n', '\\n')\n",
        "            \n",
        "def lemmatized_sentence_corpus(filename):\n",
        "    \"\"\"\n",
        "    generator function to use spaCy to parse reviews,\n",
        "    lemmatize the text, and yield sentences\n",
        "    \"\"\"\n",
        "    \n",
        "    for parsed_review in nlp.pipe(line_review(filename),\n",
        "                                  batch_size=10000, n_threads=4):\n",
        "        \n",
        "        for sent in parsed_review.sents:\n",
        "            yield u' '.join([token.lemma_ for token in sent\n",
        "                             if not punct_space(token)])"
      ],
      "execution_count": 0,
      "outputs": []
    },
    {
      "cell_type": "code",
      "metadata": {
        "id": "ZZsDwA7PCn_o",
        "colab_type": "code",
        "colab": {}
      },
      "source": [
        "unigram_sentences_bully_filepath = '/content/drive/My Drive/unigram_sentences_all_bully.txt'\n",
        "review_txt_bully_filepath = '/content/drive/My Drive/comments_bully.txt'\n",
        "\n",
        "unigram_sentences_nobully_filepath = '/content/drive/My Drive/unigram_sentences_all_nobully.txt'\n",
        "review_txt_nobully_filepath = '/content/drive/My Drive/comments_no_bully.txt'"
      ],
      "execution_count": 0,
      "outputs": []
    },
    {
      "cell_type": "code",
      "metadata": {
        "id": "iHTqtD-fC9Qv",
        "colab_type": "code",
        "colab": {}
      },
      "source": [
        "with codecs.open(unigram_sentences_nobully_filepath, 'w', encoding='utf_8') as f:\n",
        "  for sentence in lemmatized_sentence_corpus(review_txt_nobully_filepath):\n",
        "    f.write(sentence + '\\n')    \n",
        "\n",
        "#Do the same for bully set"
      ],
      "execution_count": 0,
      "outputs": []
    },
    {
      "cell_type": "code",
      "metadata": {
        "id": "zcncowr8DLtB",
        "colab_type": "code",
        "colab": {}
      },
      "source": [
        "unigram_sentences_nobully = LineSentence(unigram_sentences_nobully_filepath)\n",
        "for unigram_sentence in it.islice(unigram_sentences_nobully, 100, 120):\n",
        "    print (u' '.join(unigram_sentence))\n",
        "    print (u'')"
      ],
      "execution_count": 0,
      "outputs": []
    },
    {
      "cell_type": "code",
      "metadata": {
        "id": "MzPvbN6UDViV",
        "colab_type": "code",
        "colab": {}
      },
      "source": [
        "%%time\n",
        "bigram_model_filepath_nobully = '/content/drive/My Drive/bigram_model_all_nobully'\n",
        "\n",
        "bigram_model_nobully = Phrases(unigram_sentences_nobully)\n",
        "\n",
        "bigram_model_nobully.save(bigram_model_filepath_nobully)"
      ],
      "execution_count": 0,
      "outputs": []
    },
    {
      "cell_type": "code",
      "metadata": {
        "id": "CiQ1IyudDrYR",
        "colab_type": "code",
        "colab": {}
      },
      "source": [
        "bigram_sentences_filepath_nobully = '/content/drive/My Drive/bigram_sentences_all_nobully.txt'"
      ],
      "execution_count": 0,
      "outputs": []
    },
    {
      "cell_type": "code",
      "metadata": {
        "id": "zEN65PkHD5C9",
        "colab_type": "code",
        "colab": {}
      },
      "source": [
        "%%time\n",
        "if 1 == 1:\n",
        "    with codecs.open(bigram_sentences_filepath_nobully, 'w', encoding='utf_8') as f:\n",
        "        for unigram_sentence in unigram_sentences_nobully:\n",
        "            bigram_sentence_nobully = u' '.join(bigram_model_nobully[unigram_sentence])\n",
        "            f.write(bigram_sentence_nobully + '\\n')"
      ],
      "execution_count": 0,
      "outputs": []
    },
    {
      "cell_type": "code",
      "metadata": {
        "id": "9LjxjsqcEEVQ",
        "colab_type": "code",
        "colab": {}
      },
      "source": [
        "bigram_sentences_nobully = LineSentence(bigram_sentences_filepath_nobully)\n",
        "trigram_model_nobully_filepath = '/content/drive/My Drive/trigram_model_all_nobully'\n",
        "\n",
        "if 1 == 1:\n",
        "    trigram_model_nobully = Phrases(bigram_sentences_nobully)\n",
        "    trigram_model_nobully.save(trigram_model_nobully_filepath)"
      ],
      "execution_count": 0,
      "outputs": []
    },
    {
      "cell_type": "code",
      "metadata": {
        "id": "odiCnkY2EX1z",
        "colab_type": "code",
        "colab": {}
      },
      "source": [
        "trigram_sentences_nobully_filepath = '/content/drive/My Drive/trigram_sentences_no_bully.txt'\n",
        "\n",
        "with codecs.open(trigram_sentences_nobully_filepath, 'w', encoding='utf_8') as f:\n",
        "        for bigram_sentence in bigram_sentences_nobully:\n",
        "            trigram_sentence_nobully = u' '.join(trigram_model_nobully[bigram_sentence])\n",
        "            f.write(trigram_sentence_nobully + '\\n')\n",
        "\n",
        "trigram_sentences_nobully = LineSentence(trigram_sentences_nobully_filepath)"
      ],
      "execution_count": 0,
      "outputs": []
    },
    {
      "cell_type": "code",
      "metadata": {
        "id": "KHUrHB3pErCy",
        "colab_type": "code",
        "colab": {}
      },
      "source": [
        "trigram_reviews_nobully_filepath = '/content/drive/My Drive/trigram_transformed_reviews_all_nobully.txt'\n",
        "\n",
        "if 1 == 1:\n",
        "\n",
        "    with codecs.open(trigram_reviews_nobully_filepath, 'w', encoding='utf_8') as f:\n",
        "        \n",
        "        for parsed_review in nlp.pipe(line_review(review_txt_nobully_filepath),\n",
        "                                      batch_size=10000, n_threads=7):\n",
        "            \n",
        "            # lemmatize the text, removing punctuation and whitespace\n",
        "            unigram_review = [token.lemma_ for token in parsed_review\n",
        "                              if not punct_space(token)]\n",
        "            \n",
        "            # apply the first-order and second-order phrase models\n",
        "            bigram_review = bigram_model_nobully[unigram_review]\n",
        "            trigram_review = trigram_model_nobully[bigram_review]\n",
        "            \n",
        "            # remove any remaining stopwords\n",
        "            trigram_review = [term for term in trigram_review\n",
        "                              if term not in spacy.lang.en.stop_words.STOP_WORDS] \n",
        "            \n",
        "            # write the transformed review as a line in the new file\n",
        "            trigram_review = u' '.join(trigram_review)\n",
        "            f.write(trigram_review + '\\n')"
      ],
      "execution_count": 0,
      "outputs": []
    },
    {
      "cell_type": "markdown",
      "metadata": {
        "id": "BWkfgGCZFExO",
        "colab_type": "text"
      },
      "source": [
        "Getting Top N-Grams as Features"
      ]
    },
    {
      "cell_type": "code",
      "metadata": {
        "id": "yXb0nJHuFH-1",
        "colab_type": "code",
        "colab": {}
      },
      "source": [
        "data = open(trigram_reviews_bully_filepath, 'r').read()\n",
        "data_nobully = open(trigram_reviews_nobully_filepath,'r').read()\n",
        "data_twitter= open(trigram_reviews_twitter_filepath,'r').read()"
      ],
      "execution_count": 0,
      "outputs": []
    },
    {
      "cell_type": "code",
      "metadata": {
        "id": "FXCMQ-GiFJe-",
        "colab_type": "code",
        "colab": {}
      },
      "source": [
        "%%time\n",
        "\n",
        "from collections import Counter\n",
        "nlp = spacy.load(\"en\")\n",
        "nlp.max_length = 4000000\n",
        "\n",
        "text = data\n",
        "doc = nlp(text,disable = ['ner', 'parser'])\n",
        "words = [token.text for token in doc]\n",
        "word_freq = Counter(words)\n",
        "common_words = word_freq.most_common(1000)"
      ],
      "execution_count": 0,
      "outputs": []
    },
    {
      "cell_type": "code",
      "metadata": {
        "id": "I9fSKcMsFQFT",
        "colab_type": "code",
        "colab": {}
      },
      "source": [
        "columns = [x[0] for x in common_words]\n",
        "\n",
        "list_to_remove = ['-PRON-','\\n','=','_']\n",
        "\n",
        "for i in list_to_remove:\n",
        "  columns.remove(i)"
      ],
      "execution_count": 0,
      "outputs": []
    },
    {
      "cell_type": "code",
      "metadata": {
        "id": "3vFmU_nTFU68",
        "colab_type": "code",
        "colab": {}
      },
      "source": [
        "#Convert text files into DataFrame\n",
        "\n",
        "df_cleaned = pd.DataFrame([x for x in data.split('\\n')])\n",
        "df_nobully = pd.DataFrame([x for x in data_nobully.split('\\n')])\n",
        "df_cleaned.columns = ['comment_text']\n",
        "df_nobully.columns = ['comment_text']\n",
        "df_cleaned['label'] = 1\n",
        "df_nobully['label'] = 0\n",
        "\n",
        "whole_df = pd.concat([df_cleaned,df_nobully])\n",
        "sampled_df = whole_df.sample(n=100000,random_state=1)\n",
        "\n",
        "df_twitter = pd.DataFrame([x for x in data_twitter.split('\\n')])\n",
        "df_twitter.columns = ['comment_text']"
      ],
      "execution_count": 0,
      "outputs": []
    },
    {
      "cell_type": "code",
      "metadata": {
        "id": "syg1RsudFiyL",
        "colab_type": "code",
        "colab": {}
      },
      "source": [
        "#This is time-consuming. It gets the count of n-grams for each comment\n",
        "\n",
        "for token in columns[0:500]:\n",
        "  sampled_df[token] = sampled_df.apply(lambda x: x['comment_text'].count(token),axis=1)\n",
        "  df_twitter[token] = df_twitter.apply(lambda x: x['comment_text'].count(token),axis=1)\n",
        "\n",
        "sampled_df.to_csv('/content/drive/My Drive/sampled_df')\n",
        "df_twitter.to_csv('/content/drive/My Drive/df_twitter')"
      ],
      "execution_count": 0,
      "outputs": []
    },
    {
      "cell_type": "markdown",
      "metadata": {
        "id": "kignhfeMGX9y",
        "colab_type": "text"
      },
      "source": [
        "Running Naive-Bayes Classifier"
      ]
    },
    {
      "cell_type": "code",
      "metadata": {
        "id": "OhQHaG35GbSM",
        "colab_type": "code",
        "colab": {}
      },
      "source": [
        "#Read in Previous Data\n",
        "sampled_df = pd.read_csv('/content/drive/My Drive/sampled_df.csv')\n",
        "twitter_df = pd.read_csv('/content/drive/My Drive/df_twitter')"
      ],
      "execution_count": 0,
      "outputs": []
    },
    {
      "cell_type": "code",
      "metadata": {
        "id": "UzjtZrinGl0v",
        "colab_type": "code",
        "colab": {}
      },
      "source": [
        "#Import sklearn\n",
        "from sklearn.metrics import classification_report\n",
        "from sklearn.metrics import confusion_matrix\n",
        "from sklearn.metrics import roc_auc_score\n",
        "from sklearn.metrics import accuracy_score\n",
        "from sklearn.model_selection import train_test_split"
      ],
      "execution_count": 0,
      "outputs": []
    },
    {
      "cell_type": "code",
      "metadata": {
        "id": "oKUR6f_tGtwt",
        "colab_type": "code",
        "colab": {}
      },
      "source": [
        "#Train-test Split\n",
        "\n",
        "Y = sampled_df['label']\n",
        "X = sampled_df.drop(['label','comment_text','Unnamed: 0','u'],axis=1)\n",
        "\n",
        "X_train, X_test, Y_train, Y_test = train_test_split(X, Y, test_size=0.3, random_state = 5)"
      ],
      "execution_count": 0,
      "outputs": []
    },
    {
      "cell_type": "code",
      "metadata": {
        "id": "y9mkqLQdG1GL",
        "colab_type": "code",
        "colab": {}
      },
      "source": [
        "#Train Model\n",
        "from sklearn.naive_bayes import ComplementNB\n",
        "\n",
        "clf = ComplementNB()\n",
        "clf.fit(X_train,Y_train)"
      ],
      "execution_count": 0,
      "outputs": []
    },
    {
      "cell_type": "code",
      "metadata": {
        "id": "DsGiCtXJG2ZD",
        "colab_type": "code",
        "colab": {}
      },
      "source": [
        "#Evaluate Model\n",
        "pred = (clf.predict_proba(X_test)[:,1] >= 0.9).astype(bool)\n",
        "score = accuracy_score(Y_test, pred)\n",
        "\n",
        "print(classification_report(Y_test, pred))\n",
        "print(confusion_matrix(Y_test, pred))\n",
        "\n",
        "print(score)\n",
        "print(roc_auc_score(Y_test, pred))"
      ],
      "execution_count": 0,
      "outputs": []
    },
    {
      "cell_type": "code",
      "metadata": {
        "id": "5FinbhFcG8cB",
        "colab_type": "code",
        "outputId": "b4b115cd-11a7-400c-d2c7-d66d109726b0",
        "colab": {
          "base_uri": "https://localhost:8080/",
          "height": 228
        }
      },
      "source": [
        "#Try other forms of NB:\n",
        "from sklearn.naive_bayes import GaussianNB\n",
        "\n",
        "gnb = GaussianNB()\n",
        "gnb.fit(X_train,Y_train)\n",
        "\n",
        "pred = (gnb.predict_proba(X_test)[:,1] >= 0.9).astype(bool)\n",
        "score = accuracy_score(Y_test, pred)\n",
        "\n",
        "print(classification_report(Y_test, pred))\n",
        "print(confusion_matrix(Y_test, pred))\n",
        "\n",
        "print(score)\n",
        "print(roc_auc_score(Y_test, pred))\n",
        "\n",
        "from sklearn.naive_bayes import MultinomialNB\n",
        "\n",
        "mnb = MultinomialNB()\n",
        "mnb.fit(X_train,Y_train)\n",
        "\n",
        "pred = (mnb.predict_proba(X_test)[:,1] >= 0.8).astype(bool)\n",
        "score = accuracy_score(Y_test, pred)\n",
        "\n",
        "print(classification_report(Y_test, pred))\n",
        "print(confusion_matrix(Y_test, pred))\n",
        "\n",
        "print(score)\n",
        "print(roc_auc_score(Y_test, pred))"
      ],
      "execution_count": 0,
      "outputs": [
        {
          "output_type": "error",
          "ename": "NameError",
          "evalue": "ignored",
          "traceback": [
            "\u001b[0;31m---------------------------------------------------------------------------\u001b[0m",
            "\u001b[0;31mNameError\u001b[0m                                 Traceback (most recent call last)",
            "\u001b[0;32m<ipython-input-1-00e8c2cb7587>\u001b[0m in \u001b[0;36m<module>\u001b[0;34m()\u001b[0m\n\u001b[1;32m      2\u001b[0m \u001b[0;34m\u001b[0m\u001b[0m\n\u001b[1;32m      3\u001b[0m \u001b[0mgnb\u001b[0m \u001b[0;34m=\u001b[0m \u001b[0mGaussianNB\u001b[0m\u001b[0;34m(\u001b[0m\u001b[0;34m)\u001b[0m\u001b[0;34m\u001b[0m\u001b[0;34m\u001b[0m\u001b[0m\n\u001b[0;32m----> 4\u001b[0;31m \u001b[0mgnb\u001b[0m\u001b[0;34m.\u001b[0m\u001b[0mfit\u001b[0m\u001b[0;34m(\u001b[0m\u001b[0mX_train\u001b[0m\u001b[0;34m,\u001b[0m\u001b[0mY_train\u001b[0m\u001b[0;34m)\u001b[0m\u001b[0;34m\u001b[0m\u001b[0;34m\u001b[0m\u001b[0m\n\u001b[0m\u001b[1;32m      5\u001b[0m \u001b[0;34m\u001b[0m\u001b[0m\n\u001b[1;32m      6\u001b[0m \u001b[0mpred\u001b[0m \u001b[0;34m=\u001b[0m \u001b[0;34m(\u001b[0m\u001b[0mgnb\u001b[0m\u001b[0;34m.\u001b[0m\u001b[0mpredict_proba\u001b[0m\u001b[0;34m(\u001b[0m\u001b[0mX_test\u001b[0m\u001b[0;34m)\u001b[0m\u001b[0;34m[\u001b[0m\u001b[0;34m:\u001b[0m\u001b[0;34m,\u001b[0m\u001b[0;36m1\u001b[0m\u001b[0;34m]\u001b[0m \u001b[0;34m>=\u001b[0m \u001b[0;36m0.9\u001b[0m\u001b[0;34m)\u001b[0m\u001b[0;34m.\u001b[0m\u001b[0mastype\u001b[0m\u001b[0;34m(\u001b[0m\u001b[0mbool\u001b[0m\u001b[0;34m)\u001b[0m\u001b[0;34m\u001b[0m\u001b[0;34m\u001b[0m\u001b[0m\n",
            "\u001b[0;31mNameError\u001b[0m: name 'X_train' is not defined"
          ]
        }
      ]
    },
    {
      "cell_type": "code",
      "metadata": {
        "id": "gPBAH35cG_q0",
        "colab_type": "code",
        "colab": {}
      },
      "source": [
        "#Predict with Tweets\n",
        "\n",
        "twitter_x = twitter_df.drop(['comment_text','Unnamed: 0','u'],axis=1)\n",
        "pred = (clf.predict_proba(twitter_x)[:,1] >= 0.9).astype(bool)\n",
        "\n",
        "d = {'comment_text':twitter_df['comment_text'], 'pred': pred }\n",
        "new_df = pd.DataFrame(data= d)\n",
        "new_df.to_csv('/content/drive/My Drive/twitter_w_labels.csv')"
      ],
      "execution_count": 0,
      "outputs": []
    },
    {
      "cell_type": "markdown",
      "metadata": {
        "id": "bK99fdpNHayW",
        "colab_type": "text"
      },
      "source": [
        "Applying LIWC"
      ]
    },
    {
      "cell_type": "code",
      "metadata": {
        "id": "hvN1fqNVHbbO",
        "colab_type": "code",
        "colab": {}
      },
      "source": [
        "pip install liwc\n",
        "import liwc\n",
        "import numpy as np"
      ],
      "execution_count": 0,
      "outputs": []
    },
    {
      "cell_type": "code",
      "metadata": {
        "id": "yKsjXRF_HeWa",
        "colab_type": "code",
        "colab": {}
      },
      "source": [
        "parse, category_names = liwc.load_token_parser('/content/drive/My Drive/LIWC2007_English080733.dic')\n",
        "\n",
        "twitter_labels_2 = pd.read_csv('/content/drive/My Drive/twitter_full_labels.csv')"
      ],
      "execution_count": 0,
      "outputs": []
    },
    {
      "cell_type": "code",
      "metadata": {
        "id": "DwTi7IRmHkon",
        "colab_type": "code",
        "colab": {}
      },
      "source": [
        "import re\n",
        "from collections import Counter\n",
        "\n",
        "def tokenize(text):\n",
        "    for match in re.finditer(r'\\w+', text, re.UNICODE):\n",
        "        yield match.group(0)"
      ],
      "execution_count": 0,
      "outputs": []
    },
    {
      "cell_type": "code",
      "metadata": {
        "id": "fyJi2fWdHlW2",
        "colab_type": "code",
        "colab": {}
      },
      "source": [
        "%%time \n",
        "\n",
        "new_dict = {}\n",
        "twitter_labels_2['last_post_text'] = twitter_labels_2.last_post_text.astype(str)\n",
        "\n",
        "for row in twitter_labels_2['last_post_text']:\n",
        "  data_tokens = tokenize(row)\n",
        "  count = Counter(category for token in data_tokens for category in parse(token))\n",
        "  new_dict[row] = count"
      ],
      "execution_count": 0,
      "outputs": []
    },
    {
      "cell_type": "code",
      "metadata": {
        "id": "Tj5MUEUOICSe",
        "colab_type": "code",
        "colab": {}
      },
      "source": [
        "new_series = np.array(list(new_dict.items()))\n",
        "new_df = pd.DataFrame(data=new_series,columns=['text','liwc'])\n",
        "new_df_2 = new_df[\"liwc\"].apply(pd.Series)\n",
        "result = pd.concat([new_df, new_df_2], axis=1).drop('liwc', axis=1)\n",
        "result = result.fillna(0)"
      ],
      "execution_count": 0,
      "outputs": []
    },
    {
      "cell_type": "code",
      "metadata": {
        "id": "TqBdwYFkIY1h",
        "colab_type": "code",
        "colab": {}
      },
      "source": [
        "#From there we used Tableau to plot the LIWC categories"
      ],
      "execution_count": 0,
      "outputs": []
    },
    {
      "cell_type": "markdown",
      "metadata": {
        "id": "3_MhYQJtIroj",
        "colab_type": "text"
      },
      "source": [
        "Generating Word Cloud"
      ]
    },
    {
      "cell_type": "code",
      "metadata": {
        "id": "pVWL-fg2IrPP",
        "colab_type": "code",
        "colab": {}
      },
      "source": [
        "from wordcloud import WordCloud, STOPWORDS, ImageColorGenerator\n",
        "from PIL import Image\n",
        "import matplotlib.pyplot as plt\n",
        "% matplotlib inline\n",
        "import numpy as np"
      ],
      "execution_count": 0,
      "outputs": []
    },
    {
      "cell_type": "code",
      "metadata": {
        "id": "cq7UwEDqI7rD",
        "colab_type": "code",
        "colab": {}
      },
      "source": [
        "mask = np.array(Image.open(\"/content/drive/My Drive/cyberbullying2.png\"))\n",
        "wordcloud = WordCloud(background_color=\"white\", mode=\"RGBA\", max_words=1000, mask=mask).generate(common_words)"
      ],
      "execution_count": 0,
      "outputs": []
    },
    {
      "cell_type": "code",
      "metadata": {
        "id": "vF7ueWgdJB3B",
        "colab_type": "code",
        "colab": {}
      },
      "source": [
        "# create coloring from image\n",
        "image_colors = ImageColorGenerator(mask)\n",
        "plt.figure(figsize=[7,7])\n",
        "plt.imshow(wordcloud.recolor(color_func=image_colors), interpolation=\"bilinear\")\n",
        "plt.axis(\"off\")\n",
        "plt.show()\n",
        "\n",
        "wc =wordcloud.recolor(color_func=image_colors)\n",
        "wc.to_file('/content/drive/My Drive/bully_wordcloud.png')"
      ],
      "execution_count": 0,
      "outputs": []
    },
    {
      "cell_type": "markdown",
      "metadata": {
        "id": "yXMuQxwxA7O0",
        "colab_type": "text"
      },
      "source": [
        "Using Word2vec to Compute Cosine Similarity "
      ]
    },
    {
      "cell_type": "code",
      "metadata": {
        "id": "byBMsTjbJUvR",
        "colab_type": "code",
        "colab": {}
      },
      "source": [
        "data = open(trigram_reviews_bully_filepath, 'r').read()\n",
        "data_nobully = open(trigram_reviews_nobully_filepath,'r').read()\n",
        "data_twitter= open(trigram_reviews_twitter_filepath,'r').read()"
      ],
      "execution_count": 0,
      "outputs": []
    },
    {
      "cell_type": "code",
      "metadata": {
        "id": "n8R2S0aCJy-W",
        "colab_type": "code",
        "colab": {}
      },
      "source": [
        "%%time\n",
        "\n",
        "nlp = spacy.load(\"en\")\n",
        "nlp.max_length = 42016004\n",
        "\n",
        "text = data_twitter\n",
        "doc = nlp(text,disable = ['ner', 'parser'])\n",
        "words = [token.text for token in doc]\n",
        "word_freq = Counter(words)\n",
        "twitter_n_grams = word_freq.most_common(800)"
      ],
      "execution_count": 0,
      "outputs": []
    },
    {
      "cell_type": "code",
      "metadata": {
        "id": "VnUddjYSJ5ZL",
        "colab_type": "code",
        "colab": {}
      },
      "source": [
        "%%time \n",
        "\n",
        "nlp.max_length = 42016004\n",
        "text = data + data_nobully\n",
        "doc = nlp(text,disable = ['ner', 'parser'])\n",
        "words = [token.text for token in doc]\n",
        "word_freq = Counter(words)\n",
        "wiki_n_grams = word_freq.most_common(800)"
      ],
      "execution_count": 0,
      "outputs": []
    },
    {
      "cell_type": "code",
      "metadata": {
        "id": "Ph76vMSeJ9cQ",
        "colab_type": "code",
        "colab": {}
      },
      "source": [
        "from gensim.models.keyedvectors import KeyedVectors\n",
        "\n",
        "model_path = '/content/drive/My Drive/GoogleNews-vectors-negative300.bin.gz'\n",
        "w2v_model = KeyedVectors.load_word2vec_format(model_path, binary=True)"
      ],
      "execution_count": 0,
      "outputs": []
    },
    {
      "cell_type": "code",
      "metadata": {
        "id": "YhHRAeLMKBRk",
        "colab_type": "code",
        "colab": {}
      },
      "source": [
        "total_weight = 0\n",
        "for tweet in twitter_n_grams:\n",
        "  if tweet[0] in w2v_model.vocab:\n",
        "    weight = tweet[1]\n",
        "    total_weight += weight\n",
        "\n",
        "list_of_arrays = []\n",
        "for tweet in twitter_n_grams:\n",
        "  if tweet[0] in w2v_model.vocab:\n",
        "    weight = tweet[1]\n",
        "    new_array = (w2v_model[tweet[0]]) *(weight/total_weight)\n",
        "    list_of_arrays.append(new_array)\n",
        "\n",
        "avg_twitter = sum(list_of_arrays)/len(list_of_arrays)\n",
        "\n",
        "#Do the same for wikipedia data"
      ],
      "execution_count": 0,
      "outputs": []
    },
    {
      "cell_type": "code",
      "metadata": {
        "id": "kxVm8GbuKKr8",
        "colab_type": "code",
        "colab": {}
      },
      "source": [
        "from sklearn.metrics.pairwise import cosine_similarity\n",
        "def get_cosine_similarity(feature_vec_1, feature_vec_2):    \n",
        "    return cosine_similarity(feature_vec_1.reshape(1, -1), feature_vec_2.reshape(1, -1))[0][0]\n",
        "\n",
        "get_cosine_similarity(avg_twitter,avg_wiki)"
      ],
      "execution_count": 0,
      "outputs": []
    },
    {
      "cell_type": "markdown",
      "metadata": {
        "id": "s_vhBvhnV8Gs",
        "colab_type": "text"
      },
      "source": [
        "Create Bullying Network"
      ]
    },
    {
      "cell_type": "code",
      "metadata": {
        "id": "WnK5TXqKYrMu",
        "colab_type": "code",
        "colab": {
          "base_uri": "https://localhost:8080/",
          "height": 136
        },
        "outputId": "3da1f04f-af1d-4108-8f02-be51f8777a07"
      },
      "source": [
        "# Read in the labeled data\n",
        "path = '/content/drive/My Drive/twitter_full_labels.csv'\n",
        "twitter_data_labeled = pd.read_csv(path, encoding = \"ISO-8859-1\")\n",
        "\n",
        "# Check the imbalance of data\n",
        "print(len(twitter_data_labeled))\n",
        "print(len(twitter_data_labeled[twitter_data_labeled['pred']==True]))\n",
        "\n",
        "# Build new data only including bullying relationships\n",
        "twitter_data_bully = twitter_data_labeled[twitter_data_labeled['pred']==True]\n",
        "\n",
        "# Count the number of accounts being tagged in each comment\n",
        "def split_victims(row):\n",
        "  row = row.split(\" \")\n",
        "  len_or_row = len(row)\n",
        "  return len_or_row\n",
        "\n",
        "twitter_data_bully['no_of_victims'] = twitter_data_bully['directed_to_no_list'].apply(split_victims)"
      ],
      "execution_count": 4,
      "outputs": [
        {
          "output_type": "stream",
          "text": [
            "34393\n",
            "2921\n"
          ],
          "name": "stdout"
        },
        {
          "output_type": "stream",
          "text": [
            "/usr/local/lib/python3.6/dist-packages/ipykernel_launcher.py:17: SettingWithCopyWarning: \n",
            "A value is trying to be set on a copy of a slice from a DataFrame.\n",
            "Try using .loc[row_indexer,col_indexer] = value instead\n",
            "\n",
            "See the caveats in the documentation: http://pandas.pydata.org/pandas-docs/stable/user_guide/indexing.html#returning-a-view-versus-a-copy\n"
          ],
          "name": "stderr"
        }
      ]
    },
    {
      "cell_type": "code",
      "metadata": {
        "id": "4R9Cl8U6NttF",
        "colab_type": "code",
        "colab": {}
      },
      "source": [
        "# Build the network\n",
        "\n",
        "import networkx as nx\n",
        "\n",
        "network = {}\n",
        "\n",
        "for index, row in twitter_data_bully.iterrows():\n",
        "  list_of_victims = row['directed_to_no_list'].split()\n",
        "  network[row['handle']] = list_of_victims"
      ],
      "execution_count": 0,
      "outputs": []
    },
    {
      "cell_type": "code",
      "metadata": {
        "id": "h5rgg5XvM-yl",
        "colab_type": "code",
        "colab": {
          "base_uri": "https://localhost:8080/",
          "height": 319
        },
        "outputId": "61625a75-7579-41fd-cea3-9ae9500c1026"
      },
      "source": [
        "# Plot a sampled network\n",
        "\n",
        "small_data = twitter_data_bully[:200]\n",
        "\n",
        "small_network = {}\n",
        "for index, row in small_data.iterrows():\n",
        "  list_of_victims = row['directed_to_no_list'].split()\n",
        "  small_network[row['handle']] = list_of_victims\n",
        "\n",
        "s_G = nx.DiGraph(small_network)\n",
        "\n",
        "nx.draw(s_G, node_size=50)"
      ],
      "execution_count": 7,
      "outputs": [
        {
          "output_type": "display_data",
          "data": {
            "image/png": "[encoded data removed]",
            "text/plain": [
              "<Figure size 432x288 with 1 Axes>"
            ]
          },
          "metadata": {
            "tags": []
          }
        }
      ]
    },
    {
      "cell_type": "code",
      "metadata": {
        "id": "EYDSznfeNTqr",
        "colab_type": "code",
        "colab": {
          "base_uri": "https://localhost:8080/",
          "height": 34
        },
        "outputId": "6ac1e05b-5431-49ff-9678-7bc2346606ef"
      },
      "source": [
        "# Find the node with the highest degree centrality\n",
        "\n",
        "from networkx import degree_centrality\n",
        "import operator\n",
        "\n",
        "G = nx.Graph(network)\n",
        "\n",
        "network_deg_cent = degree_centrality(G)\n",
        "\n",
        "max(network_deg_cent.items(), key=operator.itemgetter(1))[0]\n"
      ],
      "execution_count": 8,
      "outputs": [
        {
          "output_type": "execute_result",
          "data": {
            "text/plain": [
              "'justinbieber'"
            ]
          },
          "metadata": {
            "tags": []
          },
          "execution_count": 8
        }
      ]
    },
    {
      "cell_type": "code",
      "metadata": {
        "id": "jaQevTkiNjqz",
        "colab_type": "code",
        "colab": {
          "base_uri": "https://localhost:8080/",
          "height": 319
        },
        "outputId": "a638c75a-a1a3-438c-fadb-823bdfa8b3b0"
      },
      "source": [
        "# Plot the bullying network of the node with the highest degree centrality\n",
        "\n",
        "import matplotlib.pyplot as plt\n",
        "\n",
        "hub='justinbieber'\n",
        "hub_ego = nx.ego_graph(G, hub)\n",
        "pos = nx.spring_layout(hub_ego)\n",
        "nx.draw(hub_ego, pos, node_color='b', node_size=50, width=0.1, with_labels=True)\n",
        "nx.draw_networkx_nodes(hub_ego, pos, nodelist=[hub], node_size=300, node_color='r')\n",
        "\n",
        "plt.savefig(\"graph.png\")\n",
        "plt.show()"
      ],
      "execution_count": 9,
      "outputs": [
        {
          "output_type": "display_data",
          "data": {
            "image/png": "[encoded data removed]",
            "text/plain": [
              "<Figure size 432x288 with 1 Axes>"
            ]
          },
          "metadata": {
            "tags": []
          }
        }
      ]
    },
    {
      "cell_type": "markdown",
      "metadata": {
        "id": "O93jUrKjOa4q",
        "colab_type": "text"
      },
      "source": [
        " Find Statistical Difference Using T-Test"
      ]
    },
    {
      "cell_type": "code",
      "metadata": {
        "id": "kCehnKwLOwfp",
        "colab_type": "code",
        "colab": {
          "base_uri": "https://localhost:8080/",
          "height": 136
        },
        "outputId": "8e7ea815-d39b-487d-882d-f2a9e8140082"
      },
      "source": [
        "import numpy as np\n",
        "from scipy import stats\n",
        "\n",
        "# Separate the bullying and non-bullying data\n",
        "twitter_data_bully = twitter_data_labeled[twitter_data_labeled['pred']==True]\n",
        "twitter_data_non_bully = twitter_data_labeled[twitter_data_labeled['pred']==False]\n",
        "\n",
        "twitter_data_bully.columns"
      ],
      "execution_count": 10,
      "outputs": [
        {
          "output_type": "execute_result",
          "data": {
            "text/plain": [
              "Index(['Unnamed: 0', 'comment_text', 'pred', 'account_id', 'Unnamed: 0.1',\n",
              "       'handle', 'name', 'language', 'location', 'account_created_at',\n",
              "       'account_created_at_interpolated', 'missing', 'followers_count',\n",
              "       'following_count', 'statuses_count', 'last_post_id', 'last_post_text',\n",
              "       'last_post_created_at', 'time_since_last_post', 'directed',\n",
              "       'directed_to_no_list'],\n",
              "      dtype='object')"
            ]
          },
          "metadata": {
            "tags": []
          },
          "execution_count": 10
        }
      ]
    },
    {
      "cell_type": "code",
      "metadata": {
        "id": "rIfNjvqGOwuW",
        "colab_type": "code",
        "colab": {}
      },
      "source": [
        "# The mean, variance, and standard deviation of followers_count\n",
        "\n",
        "bully_followers_mean = twitter_data_bully['followers_count'].mean()\n",
        "bully_followers_var = twitter_data_bully['followers_count'].var()\n",
        "\n",
        "nonbully_followers_mean = twitter_data_non_bully['followers_count'].mean()\n",
        "nonbully_followers_var = twitter_data_non_bully['followers_count'].var()"
      ],
      "execution_count": 0,
      "outputs": []
    },
    {
      "cell_type": "code",
      "metadata": {
        "id": "eyNhfpwBOwzp",
        "colab_type": "code",
        "colab": {}
      },
      "source": [
        "# The mean, variance, and standard deviation of following_count\n",
        "\n",
        "bully_following_mean = twitter_data_bully['following_count'].mean()\n",
        "bully_following_var = twitter_data_bully['following_count'].var()\n",
        "\n",
        "nonbully_following_mean = twitter_data_non_bully['following_count'].mean()\n",
        "nonbully_following_var = twitter_data_non_bully['following_count'].var()"
      ],
      "execution_count": 0,
      "outputs": []
    },
    {
      "cell_type": "code",
      "metadata": {
        "id": "jYjpRKH5Ow3U",
        "colab_type": "code",
        "colab": {}
      },
      "source": [
        "# The mean, variance, and standard deviation of statues_count\n",
        "\n",
        "bully_statuses_mean = twitter_data_bully['statuses_count'].mean()\n",
        "bully_statuses_var = twitter_data_bully['statuses_count'].var()\n",
        "\n",
        "nonbully_statuses_mean = twitter_data_non_bully['statuses_count'].mean()\n",
        "nonbully_statuses_var = twitter_data_non_bully['statuses_count'].var()"
      ],
      "execution_count": 0,
      "outputs": []
    },
    {
      "cell_type": "code",
      "metadata": {
        "id": "gkZql9siPj9H",
        "colab_type": "code",
        "colab": {
          "base_uri": "https://localhost:8080/",
          "height": 51
        },
        "outputId": "53bdb68c-ccfa-410b-948d-6509490d78bd"
      },
      "source": [
        "## T-Test (Method 1)\n",
        "\n",
        "#Sample Size\n",
        "N = 2900\n",
        "\n",
        "#std deviation\n",
        "s = np.sqrt((bully_following_var + nonbully_following_var)/2)  # can just change the parameter in the formula\n",
        " \n",
        "## Calculate the t-statistics\n",
        "t = (bully_following_mean - nonbully_following_mean)/(s*np.sqrt(2/N))  # can just change the parameter in the formula\n",
        "\n",
        "## Compare with the critical t-value\n",
        "#Degrees of freedom\n",
        "df = 2*N - 2\n",
        "\n",
        "#p-value after comparison with the t \n",
        "p = 1 - stats.t.cdf(t,df=df)\n",
        "\n",
        "\n",
        "print(\"t = \" + str(t))\n",
        "print(\"p = \" + str(2*p))"
      ],
      "execution_count": 13,
      "outputs": [
        {
          "output_type": "stream",
          "text": [
            "t = 0.24993350224319338\n",
            "p = 0.8026476287546238\n"
          ],
          "name": "stdout"
        }
      ]
    },
    {
      "cell_type": "markdown",
      "metadata": {
        "id": "tmGgNrO6QZYM",
        "colab_type": "text"
      },
      "source": [
        "Visualization"
      ]
    },
    {
      "cell_type": "code",
      "metadata": {
        "id": "Nb67SGFDPkff",
        "colab_type": "code",
        "colab": {}
      },
      "source": [
        "twitter_data_labeled = twitter_data_labeled.rename(columns={\"pred\": \"Bully\"})"
      ],
      "execution_count": 0,
      "outputs": []
    },
    {
      "cell_type": "code",
      "metadata": {
        "id": "iAsI_eGuQibn",
        "colab_type": "code",
        "colab": {
          "base_uri": "https://localhost:8080/",
          "height": 279
        },
        "outputId": "49ebc070-85a4-4592-f39f-32865cf90931"
      },
      "source": [
        "import seaborn as sn\n",
        "bxplot = sn.boxplot(y=twitter_data_labeled['followers_count'],x=twitter_data_labeled['Bully'], order=[True, False])\n",
        "plt.show()"
      ],
      "execution_count": 18,
      "outputs": [
        {
          "output_type": "display_data",
          "data": {
            "image/png": "[encoded data removed]",
            "text/plain": [
              "<Figure size 432x288 with 1 Axes>"
            ]
          },
          "metadata": {
            "tags": []
          }
        }
      ]
    },
    {
      "cell_type": "code",
      "metadata": {
        "id": "-fnn4BEdQmUb",
        "colab_type": "code",
        "colab": {
          "base_uri": "https://localhost:8080/",
          "height": 279
        },
        "outputId": "839750ee-6295-4398-f91a-2ab3c3f8c9bf"
      },
      "source": [
        "bxplot = sn.boxplot(y=twitter_data_labeled['following_count'],x=twitter_data_labeled['Bully'], order=[True, False])\n",
        "plt.show()"
      ],
      "execution_count": 19,
      "outputs": [
        {
          "output_type": "display_data",
          "data": {
            "image/png": "[encoded data removed]",
            "text/plain": [
              "<Figure size 432x288 with 1 Axes>"
            ]
          },
          "metadata": {
            "tags": []
          }
        }
      ]
    },
    {
      "cell_type": "code",
      "metadata": {
        "id": "4lOnFsIMQqal",
        "colab_type": "code",
        "colab": {
          "base_uri": "https://localhost:8080/",
          "height": 458
        },
        "outputId": "8debb403-f736-410d-d4c3-64be520fdafe"
      },
      "source": [
        "g = sn.catplot(x=\"Bully\", y=\"following_count\", data=twitter_data_labeled,\n",
        "                height=6, kind=\"bar\", palette=\"muted\")\n",
        "g.despine(left=True)"
      ],
      "execution_count": 20,
      "outputs": [
        {
          "output_type": "execute_result",
          "data": {
            "text/plain": [
              "<seaborn.axisgrid.FacetGrid at 0x7f66c455ab00>"
            ]
          },
          "metadata": {
            "tags": []
          },
          "execution_count": 20
        },
        {
          "output_type": "display_data",
          "data": {
            "image/png": "[encoded data removed]",
            "text/plain": [
              "<Figure size 432x432 with 1 Axes>"
            ]
          },
          "metadata": {
            "tags": []
          }
        }
      ]
    },
    {
      "cell_type": "code",
      "metadata": {
        "id": "GQf9FdKlQsmJ",
        "colab_type": "code",
        "colab": {
          "base_uri": "https://localhost:8080/",
          "height": 458
        },
        "outputId": "11ec2dc5-73a1-4133-ba8a-59268aeb3a10"
      },
      "source": [
        "g = sn.catplot(x=\"Bully\", y=\"followers_count\", data=twitter_data_labeled,\n",
        "                height=6, kind=\"bar\", palette=\"muted\")\n",
        "g.despine(left=True)"
      ],
      "execution_count": 21,
      "outputs": [
        {
          "output_type": "execute_result",
          "data": {
            "text/plain": [
              "<seaborn.axisgrid.FacetGrid at 0x7f664351fa90>"
            ]
          },
          "metadata": {
            "tags": []
          },
          "execution_count": 21
        },
        {
          "output_type": "display_data",
          "data": {
            "image/png": "[encoded data removed]",
            "text/plain": [
              "<Figure size 432x432 with 1 Axes>"
            ]
          },
          "metadata": {
            "tags": []
          }
        }
      ]
    },
    {
      "cell_type": "markdown",
      "metadata": {
        "id": "hkc4DQBoQyMc",
        "colab_type": "text"
      },
      "source": [
        "Later on we decided to use Tableau for better visualization."
      ]
    }
  ]
}